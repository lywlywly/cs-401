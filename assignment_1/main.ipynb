{
 "cells": [
  {
   "cell_type": "code",
   "execution_count": 1,
   "metadata": {},
   "outputs": [],
   "source": [
    "from pyspark.sql import SparkSession\n",
    "import pyspark.sql.functions as F\n",
    "from pyspark.sql.window import Window\n",
    "import matplotlib.pyplot as plt\n",
    "import datetime"
   ]
  },
  {
   "cell_type": "code",
   "execution_count": 2,
   "metadata": {},
   "outputs": [
    {
     "name": "stderr",
     "output_type": "stream",
     "text": [
      "WARNING: An illegal reflective access operation has occurred\n",
      "WARNING: Illegal reflective access by org.apache.spark.unsafe.Platform (file:/home/hadoop/spark-3.2.0-bin-hadoop3.2/jars/spark-unsafe_2.12-3.2.0.jar) to constructor java.nio.DirectByteBuffer(long,int)\n",
      "WARNING: Please consider reporting this to the maintainers of org.apache.spark.unsafe.Platform\n",
      "WARNING: Use --illegal-access=warn to enable warnings of further illegal reflective access operations\n",
      "WARNING: All illegal access operations will be denied in a future release\n",
      "Setting default log level to \"WARN\".\n",
      "To adjust logging level use sc.setLogLevel(newLevel). For SparkR, use setLogLevel(newLevel).\n",
      "2024-01-25 09:38:27,317 WARN util.NativeCodeLoader: Unable to load native-hadoop library for your platform... using builtin-java classes where applicable\n"
     ]
    }
   ],
   "source": [
    "spark = SparkSession.builder \\\n",
    "    .appName(\"assignment_1\") \\\n",
    "    .getOrCreate()"
   ]
  },
  {
   "cell_type": "code",
   "execution_count": 3,
   "metadata": {},
   "outputs": [
    {
     "name": "stderr",
     "output_type": "stream",
     "text": [
      "                                                                                \r"
     ]
    }
   ],
   "source": [
    "file_path_tracks = \"hdfs://localhost:9000/datasets/spotify/tracks.json\"\n",
    "tracks_df = spark.read.format(\"json\").load(file_path_tracks)\n",
    "file_path_playlist = \"hdfs://localhost:9000/datasets/spotify/playlist.json\"\n",
    "playlist_df = spark.read.format(\"json\").load(file_path_playlist)\n"
   ]
  },
  {
   "cell_type": "markdown",
   "metadata": {},
   "source": [
    "## Task1: Statistics about songs duration"
   ]
  },
  {
   "cell_type": "code",
   "execution_count": 4,
   "metadata": {},
   "outputs": [
    {
     "name": "stderr",
     "output_type": "stream",
     "text": [
      "                                                                                \r"
     ]
    },
    {
     "data": {
      "text/plain": [
       "10760544"
      ]
     },
     "execution_count": 4,
     "metadata": {},
     "output_type": "execute_result"
    }
   ],
   "source": [
    "original_count = tracks_df.count()\n",
    "original_count"
   ]
  },
  {
   "cell_type": "markdown",
   "metadata": {},
   "source": [
    "### 1.Generate a table containing the minimum, average and maximum duration, in milliseconds, of the songs in the dataset."
   ]
  },
  {
   "cell_type": "code",
   "execution_count": 5,
   "metadata": {},
   "outputs": [
    {
     "name": "stderr",
     "output_type": "stream",
     "text": [
      "[Stage 5:====================================================>    (22 + 2) / 24]\r"
     ]
    },
    {
     "name": "stdout",
     "output_type": "stream",
     "text": [
      "+------------+------------------+------------+\n",
      "|min_duration|      avg_duration|max_duration|\n",
      "+------------+------------------+------------+\n",
      "|           0|234408.54976216817|    10435467|\n",
      "+------------+------------------+------------+\n",
      "\n"
     ]
    },
    {
     "name": "stderr",
     "output_type": "stream",
     "text": [
      "                                                                                \r"
     ]
    }
   ],
   "source": [
    "duration_stats = tracks_df.agg(\n",
    "    F.min(\"duration_ms\").alias(\"min_duration\"),\n",
    "    F.avg(\"duration_ms\").alias(\"avg_duration\"),\n",
    "    F.max(\"duration_ms\").alias(\"max_duration\")\n",
    ")\n",
    "duration_stats.show()"
   ]
  },
  {
   "cell_type": "markdown",
   "metadata": {},
   "source": [
    "### 2. Compute the first and third quartiles (denoted $Q_1$ and $Q_3$), as well as the interquartile range (IQR) ($Q_3 - Q_1$)"
   ]
  },
  {
   "cell_type": "code",
   "execution_count": 6,
   "metadata": {},
   "outputs": [
    {
     "name": "stderr",
     "output_type": "stream",
     "text": [
      "                                                                                \r"
     ]
    },
    {
     "name": "stdout",
     "output_type": "stream",
     "text": [
      "q1: 198333.0\n",
      "q3: 258834.0\n",
      "iqr: 60501.0\n"
     ]
    }
   ],
   "source": [
    "quantiles = tracks_df.approxQuantile(\"duration_ms\", [0.25, 0.75], 0.0)\n",
    "q1 = quantiles[0]\n",
    "q3 = quantiles[1]\n",
    "iqr = q3 - q1\n",
    "print(f\"q1: {q1}\")\n",
    "print(f\"q3: {q3}\")\n",
    "print(f\"iqr: {iqr}\")"
   ]
  },
  {
   "cell_type": "markdown",
   "metadata": {},
   "source": [
    "### 3. Compute the set of songs with durations that are not outliers\n",
    "\n",
    "As defined by the IQRR methodology, identify all songs with duration $x$ such that $Q_1 - 1.5\\times \\text{IQR} < x < Q_3 + 1.5 \\times IQR  $"
   ]
  },
  {
   "cell_type": "code",
   "execution_count": 7,
   "metadata": {},
   "outputs": [],
   "source": [
    "filtered_df = tracks_df.filter((tracks_df[\"duration_ms\"] >= q1 - 1.5 * iqr) & (tracks_df[\"duration_ms\"] <= q3 + 1.5 * iqr))"
   ]
  },
  {
   "cell_type": "markdown",
   "metadata": {},
   "source": [
    "### 4. Using the IQRR methodology, how many songs would be considered outliers and removed from analysis? Generate a new table containing the minimum, average and maximum duration of the remaining songs"
   ]
  },
  {
   "cell_type": "markdown",
   "metadata": {},
   "source": [
    "New table containing the minimum, average and maximum duration of the remaining songs"
   ]
  },
  {
   "cell_type": "code",
   "execution_count": 8,
   "metadata": {},
   "outputs": [
    {
     "name": "stderr",
     "output_type": "stream",
     "text": [
      "[Stage 10:=====================================================>  (23 + 1) / 24]\r"
     ]
    },
    {
     "name": "stdout",
     "output_type": "stream",
     "text": [
      "+------------+------------------+------------+\n",
      "|min_duration|      avg_duration|max_duration|\n",
      "+------------+------------------+------------+\n",
      "|      107582|226899.35353939075|      349583|\n",
      "+------------+------------------+------------+\n",
      "\n"
     ]
    },
    {
     "name": "stderr",
     "output_type": "stream",
     "text": [
      "                                                                                \r"
     ]
    }
   ],
   "source": [
    "remaining_stats = filtered_df.agg(\n",
    "    F.min(\"duration_ms\").alias(\"min_duration\"),\n",
    "    F.avg(\"duration_ms\").alias(\"avg_duration\"),\n",
    "    F.max(\"duration_ms\").alias(\"max_duration\")\n",
    ")\n",
    "remaining_stats.show()"
   ]
  },
  {
   "cell_type": "markdown",
   "metadata": {},
   "source": [
    "How many songs would be considered outliers and removed from analysis?"
   ]
  },
  {
   "cell_type": "code",
   "execution_count": 9,
   "metadata": {},
   "outputs": [
    {
     "name": "stderr",
     "output_type": "stream",
     "text": [
      "                                                                                \r"
     ]
    },
    {
     "data": {
      "text/plain": [
       "559989"
      ]
     },
     "execution_count": 9,
     "metadata": {},
     "output_type": "execute_result"
    }
   ],
   "source": [
    "remaining_count = filtered_df.count()\n",
    "removed_count = original_count - remaining_count\n",
    "removed_count"
   ]
  },
  {
   "cell_type": "markdown",
   "metadata": {},
   "source": [
    "## Task2: Finding the most popular artists over time"
   ]
  },
  {
   "cell_type": "code",
   "execution_count": 10,
   "metadata": {},
   "outputs": [],
   "source": [
    "joint_df = tracks_df.join(playlist_df, tracks_df.pid == playlist_df.pid).drop(playlist_df.pid)"
   ]
  },
  {
   "cell_type": "code",
   "execution_count": 11,
   "metadata": {},
   "outputs": [],
   "source": [
    "artist_popularity = (\n",
    "    joint_df.groupBy(\"artist_name\")\n",
    "    .agg(F.countDistinct(\"pid\").alias(\"playlist_count\"))\n",
    "    .orderBy(F.desc(\"playlist_count\"))\n",
    "    .limit(5)\n",
    ")"
   ]
  },
  {
   "cell_type": "code",
   "execution_count": 12,
   "metadata": {},
   "outputs": [
    {
     "name": "stderr",
     "output_type": "stream",
     "text": [
      "[Stage 19:>                                                         (0 + 4) / 5]\r"
     ]
    },
    {
     "name": "stdout",
     "output_type": "stream",
     "text": [
      "+--------------+--------------+\n",
      "|   artist_name|playlist_count|\n",
      "+--------------+--------------+\n",
      "|         Drake|         32259|\n",
      "|       Rihanna|         23963|\n",
      "|    Kanye West|         22464|\n",
      "|    The Weeknd|         20046|\n",
      "|Kendrick Lamar|         19159|\n",
      "+--------------+--------------+\n",
      "\n"
     ]
    },
    {
     "name": "stderr",
     "output_type": "stream",
     "text": [
      "                                                                                \r"
     ]
    }
   ],
   "source": [
    "artist_popularity.show()"
   ]
  },
  {
   "cell_type": "code",
   "execution_count": 13,
   "metadata": {},
   "outputs": [
    {
     "name": "stderr",
     "output_type": "stream",
     "text": [
      "                                                                                \r"
     ]
    },
    {
     "data": {
      "text/plain": [
       "['Drake', 'Kanye West', 'Kendrick Lamar', 'Rihanna', 'The Weeknd']"
      ]
     },
     "execution_count": 13,
     "metadata": {},
     "output_type": "execute_result"
    }
   ],
   "source": [
    "top_artists = artist_popularity.orderBy(\"artist_name\").select(\"artist_name\").rdd.flatMap(lambda x: x).collect()\n",
    "top_artists"
   ]
  },
  {
   "cell_type": "code",
   "execution_count": 14,
   "metadata": {},
   "outputs": [
    {
     "name": "stderr",
     "output_type": "stream",
     "text": [
      "                                                                                \r"
     ]
    }
   ],
   "source": [
    "modified_at_list = (\n",
    "    joint_df.filter(F.col(\"artist_name\").isin(top_artists))\n",
    "    .groupBy(\"artist_name\")\n",
    "    .agg(F.sort_array(F.collect_list(\"modified_at\")).alias(\"sorted_modified_at\"))\n",
    "    .orderBy(\"artist_name\")\n",
    "    .select(\"sorted_modified_at\")\n",
    "    .rdd.flatMap(lambda x: x)\n",
    "    .collect()\n",
    ")"
   ]
  },
  {
   "cell_type": "code",
   "execution_count": 15,
   "metadata": {},
   "outputs": [
    {
     "data": {
      "text/plain": [
       "(1305244800, 1509494400)"
      ]
     },
     "execution_count": 15,
     "metadata": {},
     "output_type": "execute_result"
    }
   ],
   "source": [
    "min_date = min([min(sub_list) for sub_list in modified_at_list])\n",
    "max_date = max([max(sub_list) for sub_list in modified_at_list])\n",
    "min_date, max_date"
   ]
  },
  {
   "cell_type": "code",
   "execution_count": 16,
   "metadata": {},
   "outputs": [
    {
     "data": {
      "image/png": "[encoded data removed]",
      "text/plain": [
       "<Figure size 800x600 with 1 Axes>"
      ]
     },
     "metadata": {},
     "output_type": "display_data"
    }
   ],
   "source": [
    "y = [list(range(1, 1 + len(sub_list))) for sub_list in modified_at_list]\n",
    "\n",
    "fig, ax = plt.subplots(figsize=(8, 6))\n",
    "\n",
    "for i in range(5):\n",
    "    converted_dates = [datetime.datetime.fromtimestamp(timestamp) for timestamp in modified_at_list[i]]\n",
    "    ax.scatter(converted_dates, y[i], label=top_artists[i], s=0.8)\n",
    "\n",
    "ax.set_title(\"Most popular artists over time\")\n",
    "ax.set_xlabel(\"Time\")\n",
    "ax.set_ylabel(\"Appearances in playlists\")\n",
    "ax.legend()\n",
    "fig.show()\n",
    "fig.savefig(\"popular_artists_over_time.png\", bbox_inches=\"tight\")\n"
   ]
  },
  {
   "cell_type": "markdown",
   "metadata": {},
   "source": [
    "## Task3: Playlists's behavior"
   ]
  },
  {
   "cell_type": "code",
   "execution_count": 17,
   "metadata": {},
   "outputs": [],
   "source": [
    "def get_fraction(pid):\n",
    "    selected_df = tracks_df.filter(F.col(\"pid\")==pid)\n",
    "    total_len = selected_df.count()\n",
    "    grouped_df = selected_df.groupBy(\"artist_name\").agg(F.count(\"artist_name\").alias(\"count\"))\n",
    "    ordered_df = grouped_df.orderBy(F.col(\"count\").desc())\n",
    "    most_len = ordered_df.first()[\"count\"]\n",
    "    return most_len/total_len"
   ]
  },
  {
   "cell_type": "code",
   "execution_count": 18,
   "metadata": {},
   "outputs": [
    {
     "name": "stderr",
     "output_type": "stream",
     "text": [
      "[Stage 41:>                                                        (0 + 4) / 24]\r"
     ]
    },
    {
     "name": "stderr",
     "output_type": "stream",
     "text": [
      "[Stage 41:=====================================================>  (23 + 1) / 24]\r"
     ]
    },
    {
     "name": "stdout",
     "output_type": "stream",
     "text": [
      "+---+------------------+\n",
      "|pid|count(artist_name)|\n",
      "+---+------------------+\n",
      "|  0|                52|\n",
      "|  1|                39|\n",
      "|  2|                64|\n",
      "|  3|               126|\n",
      "|  4|                17|\n",
      "|  5|                80|\n",
      "|  6|                16|\n",
      "|  7|                53|\n",
      "|  8|                46|\n",
      "|  9|                21|\n",
      "| 10|                72|\n",
      "| 11|               134|\n",
      "| 12|                 9|\n",
      "| 13|                13|\n",
      "| 14|               103|\n",
      "| 15|                 7|\n",
      "| 16|               105|\n",
      "| 17|                79|\n",
      "| 18|                68|\n",
      "| 19|                85|\n",
      "+---+------------------+\n",
      "only showing top 20 rows\n",
      "\n"
     ]
    },
    {
     "name": "stderr",
     "output_type": "stream",
     "text": [
      "                                                                                \r"
     ]
    }
   ],
   "source": [
    "total_songs_per_pid_df = tracks_df.groupBy(\"pid\").agg(F.count(\"artist_name\")).orderBy(F.col(\"pid\"))\n",
    "total_songs_per_pid_df.show()"
   ]
  },
  {
   "cell_type": "code",
   "execution_count": 19,
   "metadata": {},
   "outputs": [
    {
     "name": "stderr",
     "output_type": "stream",
     "text": [
      "[Stage 49:>                                                         (0 + 1) / 1]\r"
     ]
    },
    {
     "name": "stdout",
     "output_type": "stream",
     "text": [
      "+---+--------------------+-----+----------------+\n",
      "|pid|         artist_name|count|songs_count_rank|\n",
      "+---+--------------------+-----+----------------+\n",
      "|  0|     Jesse McCartney|    4|               1|\n",
      "|  0|       Justin Bieber|    3|               2|\n",
      "|  0|         Chris Brown|    3|               3|\n",
      "|  0|     Boys Like Girls|    2|               4|\n",
      "|  0|       Avril Lavigne|    2|               5|\n",
      "|  0|  The Pussycat Dolls|    2|               6|\n",
      "|  0|             Beyoncé|    2|               7|\n",
      "|  0|               Usher|    2|               8|\n",
      "|  0|         Miley Cyrus|    2|               9|\n",
      "|  0|     Destiny's Child|    2|              10|\n",
      "|  0|               Ne-Yo|    2|              11|\n",
      "|  0|              Cassie|    1|              12|\n",
      "|  0|         Sheryl Crow|    1|              13|\n",
      "|  0|      Jonas Brothers|    1|              14|\n",
      "|  0|The All-American ...|    1|              15|\n",
      "|  0|           blink-182|    1|              16|\n",
      "|  0|   Justin Timberlake|    1|              17|\n",
      "|  0|       Nelly Furtado|    1|              18|\n",
      "|  0|         The Killers|    1|              19|\n",
      "|  0|            Cris Cab|    1|              20|\n",
      "+---+--------------------+-----+----------------+\n",
      "only showing top 20 rows\n",
      "\n"
     ]
    },
    {
     "name": "stderr",
     "output_type": "stream",
     "text": [
      "                                                                                \r"
     ]
    }
   ],
   "source": [
    "# apply window function to partition by pid\n",
    "window = Window.partitionBy('pid').orderBy(F.desc('count'))\n",
    "# in each window, `songs_count_rank` is ranking in terms songs count per playlist\n",
    "windowed_by_pid = tracks_df.groupBy('pid', 'artist_name').count().withColumn('songs_count_rank', F.row_number().over(window))\n",
    "windowed_by_pid.show()"
   ]
  },
  {
   "cell_type": "code",
   "execution_count": 20,
   "metadata": {},
   "outputs": [
    {
     "name": "stderr",
     "output_type": "stream",
     "text": [
      "[Stage 55:>                                                         (0 + 4) / 5]\r"
     ]
    },
    {
     "name": "stdout",
     "output_type": "stream",
     "text": [
      "+---+--------------------+-----+\n",
      "|pid|         artist_name|count|\n",
      "+---+--------------------+-----+\n",
      "|  0|     Jesse McCartney|    4|\n",
      "|  1|                Rush|    7|\n",
      "|  2|                 BTS|    8|\n",
      "|  3|           Hüsker Dü|    5|\n",
      "|  4|The Smashing Pump...|    2|\n",
      "|  5|       Rascal Flatts|    6|\n",
      "|  6|             Misfits|    3|\n",
      "|  7|                HAIM|    2|\n",
      "|  8|         The Beatles|    8|\n",
      "|  9|       Merle Haggard|    2|\n",
      "| 10|           Lil Wayne|    5|\n",
      "| 11|           DJ Shadow|   10|\n",
      "| 12|           Passenger|    1|\n",
      "| 13|             Ruth B.|    2|\n",
      "| 14|             Nirvana|    6|\n",
      "| 15|         Sylvan Esso|    3|\n",
      "| 16|The Airborne Toxi...|    4|\n",
      "| 17|     Imagine Dragons|    5|\n",
      "| 18|          Tim McGraw|    3|\n",
      "| 19|          Nick Drake|    4|\n",
      "+---+--------------------+-----+\n",
      "only showing top 20 rows\n",
      "\n"
     ]
    },
    {
     "name": "stderr",
     "output_type": "stream",
     "text": [
      "                                                                                \r"
     ]
    }
   ],
   "source": [
    "top_count_per_pid = windowed_by_pid.filter(F.col('songs_count_rank') == 1).drop('songs_count_rank').orderBy(F.col(\"pid\"))\n",
    "top_count_per_pid.show()"
   ]
  },
  {
   "cell_type": "code",
   "execution_count": 21,
   "metadata": {},
   "outputs": [
    {
     "name": "stderr",
     "output_type": "stream",
     "text": [
      "                                                                                \r"
     ]
    }
   ],
   "source": [
    "max_counts = top_count_per_pid.select(\"count\").rdd.flatMap(lambda x: x).collect()\n",
    "total_counts = total_songs_per_pid_df.select(\"count(artist_name)\").rdd.flatMap(lambda x: x).collect()"
   ]
  },
  {
   "cell_type": "code",
   "execution_count": 22,
   "metadata": {},
   "outputs": [
    {
     "data": {
      "text/plain": [
       "[0.005319148936170213,\n",
       " 0.006024096385542169,\n",
       " 0.006172839506172839,\n",
       " 0.006211180124223602,\n",
       " 0.006329113924050633,\n",
       " 0.008658008658008658,\n",
       " 0.008771929824561403,\n",
       " 0.009389671361502348,\n",
       " 0.009433962264150943,\n",
       " 0.009523809523809525,\n",
       " 0.009569377990430622,\n",
       " 0.009708737864077669,\n",
       " 0.00980392156862745,\n",
       " 0.009900990099009901,\n",
       " 0.01]"
      ]
     },
     "execution_count": 22,
     "metadata": {},
     "output_type": "execute_result"
    }
   ],
   "source": [
    "fractions =[m / t for m, t  in zip(max_counts, total_counts)]\n",
    "fractions = sorted(fractions)\n",
    "fractions[:15]"
   ]
  },
  {
   "cell_type": "code",
   "execution_count": 23,
   "metadata": {},
   "outputs": [
    {
     "data": {
      "image/png": "[encoded data removed]",
      "text/plain": [
       "<Figure size 800x600 with 1 Axes>"
      ]
     },
     "metadata": {},
     "output_type": "display_data"
    }
   ],
   "source": [
    "import numpy as np\n",
    "\n",
    "num_points = len(fractions)\n",
    "y = np.linspace(0, 1, num_points)\n",
    "\n",
    "fig, ax = plt.subplots(figsize=(8, 6))\n",
    "ax.scatter(fractions, y, color=\"red\", label=\"Data Points\")\n",
    "ax.set_title(\"CDF of largest fractions of same artist in playlists\")\n",
    "ax.set_xlabel(\"Density\")\n",
    "ax.set_ylabel(\"Fraction\")\n",
    "fig.show()\n",
    "fig.savefig(\"cdf_prevalence_over_playlist.png\", bbox_inches=\"tight\")"
   ]
  }
 ],
 "metadata": {
  "kernelspec": {
   "display_name": "Python 3 (ipykernel)",
   "language": "python",
   "name": "python3"
  },
  "language_info": {
   "codemirror_mode": {
    "name": "ipython",
    "version": 3
   },
   "file_extension": ".py",
   "mimetype": "text/x-python",
   "name": "python",
   "nbconvert_exporter": "python",
   "pygments_lexer": "ipython3",
   "version": "3.8.10"
  }
 },
 "nbformat": 4,
 "nbformat_minor": 2
}
